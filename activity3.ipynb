{
  "nbformat": 4,
  "nbformat_minor": 0,
  "metadata": {
    "colab": {
      "provenance": []
    },
    "kernelspec": {
      "name": "python3",
      "display_name": "Python 3"
    },
    "language_info": {
      "name": "python"
    }
  },
  "cells": [
    {
      "cell_type": "code",
      "execution_count": null,
      "metadata": {
        "id": "F2etr6Af7NwN"
      },
      "outputs": [],
      "source": [
        "import matplotlib.pyplot as plt\n",
        "import numpy as np\n",
        "x=np.arange(1,11,1)\n",
        "y1=(2*x)+1\n",
        "y2=(2*x*x)+2\n",
        "plt.plot(x,y1,'g',linewidth=3,label='y=2x+1')\n",
        "plt.plot(x,y2,'r',linewidth=3,label='y=2x^2+2')\n",
        "plt.legend()\n",
        "plt.show()"
      ]
    }
  ]
}