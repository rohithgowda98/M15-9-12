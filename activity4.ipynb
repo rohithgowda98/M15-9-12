{
  "nbformat": 4,
  "nbformat_minor": 0,
  "metadata": {
    "colab": {
      "provenance": []
    },
    "kernelspec": {
      "name": "python3",
      "display_name": "Python 3"
    },
    "accelerator": "GPU"
  },
  "cells": [
    {
      "cell_type": "markdown",
      "metadata": {
        "id": "55RfsPh_HtGA"
      },
      "source": [
        "##Import Pandas and Matplotlib"
      ]
    },
    {
      "cell_type": "code",
      "metadata": {
        "id": "xSSBW9mUO-G4"
      },
      "source": [
        "import pandas as pd\n",
        "import matplotlib.pyplot as plt"
      ],
      "execution_count": null,
      "outputs": []
    },
    {
      "cell_type": "markdown",
      "metadata": {
        "id": "fK_my9DKIT3R"
      },
      "source": [
        "\n",
        "\n",
        "##1.   Upload File\n",
        "##2.   Make a Copy of the File\n",
        "\n"
      ]
    },
    {
      "cell_type": "code",
      "metadata": {
        "id": "GPSdTzfirIeK",
        "colab": {
          "base_uri": "https://localhost:8080/",
          "height": 137
        },
        "outputId": "b424144a-cda4-4713-b411-35d5d344e8a3"
      },
      "source": [
        "countries_df = pd.read_csv('countries.csv')\n",
        "\n",
        "countries = countries_df\n",
        "\n",
        "countries.head(3)"
      ],
      "execution_count": null,
      "outputs": [
        {
          "output_type": "execute_result",
          "data": {
            "text/html": [
              "<div>\n",
              "<style scoped>\n",
              "    .dataframe tbody tr th:only-of-type {\n",
              "        vertical-align: middle;\n",
              "    }\n",
              "\n",
              "    .dataframe tbody tr th {\n",
              "        vertical-align: top;\n",
              "    }\n",
              "\n",
              "    .dataframe thead th {\n",
              "        text-align: right;\n",
              "    }\n",
              "</style>\n",
              "<table border=\"1\" class=\"dataframe\">\n",
              "  <thead>\n",
              "    <tr style=\"text-align: right;\">\n",
              "      <th></th>\n",
              "      <th>country</th>\n",
              "      <th>year</th>\n",
              "      <th>population</th>\n",
              "    </tr>\n",
              "  </thead>\n",
              "  <tbody>\n",
              "    <tr>\n",
              "      <th>0</th>\n",
              "      <td>Afghanistan</td>\n",
              "      <td>1952</td>\n",
              "      <td>8425333</td>\n",
              "    </tr>\n",
              "    <tr>\n",
              "      <th>1</th>\n",
              "      <td>Afghanistan</td>\n",
              "      <td>1957</td>\n",
              "      <td>9240934</td>\n",
              "    </tr>\n",
              "    <tr>\n",
              "      <th>2</th>\n",
              "      <td>Afghanistan</td>\n",
              "      <td>1962</td>\n",
              "      <td>10267083</td>\n",
              "    </tr>\n",
              "  </tbody>\n",
              "</table>\n",
              "</div>"
            ],
            "text/plain": [
              "       country  year  population\n",
              "0  Afghanistan  1952     8425333\n",
              "1  Afghanistan  1957     9240934\n",
              "2  Afghanistan  1962    10267083"
            ]
          },
          "metadata": {
            "tags": []
          },
          "execution_count": 31
        }
      ]
    },
    {
      "cell_type": "markdown",
      "metadata": {
        "id": "xlFpoUWyKUCn"
      },
      "source": [
        "##Extract the rows where the year is 1952"
      ]
    },
    {
      "cell_type": "code",
      "metadata": {
        "id": "KbqozDCahNu3",
        "colab": {
          "base_uri": "https://localhost:8080/",
          "height": 197
        },
        "outputId": "304808ee-0135-4ed4-f4ff-76060505182a"
      },
      "source": [
        "c_52 = countries.loc[countries['year'] == 1952]\n",
        "c_52.head()"
      ],
      "execution_count": null,
      "outputs": [
        {
          "output_type": "execute_result",
          "data": {
            "text/html": [
              "<div>\n",
              "<style scoped>\n",
              "    .dataframe tbody tr th:only-of-type {\n",
              "        vertical-align: middle;\n",
              "    }\n",
              "\n",
              "    .dataframe tbody tr th {\n",
              "        vertical-align: top;\n",
              "    }\n",
              "\n",
              "    .dataframe thead th {\n",
              "        text-align: right;\n",
              "    }\n",
              "</style>\n",
              "<table border=\"1\" class=\"dataframe\">\n",
              "  <thead>\n",
              "    <tr style=\"text-align: right;\">\n",
              "      <th></th>\n",
              "      <th>country</th>\n",
              "      <th>year</th>\n",
              "      <th>population</th>\n",
              "    </tr>\n",
              "  </thead>\n",
              "  <tbody>\n",
              "    <tr>\n",
              "      <th>0</th>\n",
              "      <td>Afghanistan</td>\n",
              "      <td>1952</td>\n",
              "      <td>8425333</td>\n",
              "    </tr>\n",
              "    <tr>\n",
              "      <th>12</th>\n",
              "      <td>Albania</td>\n",
              "      <td>1952</td>\n",
              "      <td>1282697</td>\n",
              "    </tr>\n",
              "    <tr>\n",
              "      <th>24</th>\n",
              "      <td>Algeria</td>\n",
              "      <td>1952</td>\n",
              "      <td>9279525</td>\n",
              "    </tr>\n",
              "    <tr>\n",
              "      <th>36</th>\n",
              "      <td>Angola</td>\n",
              "      <td>1952</td>\n",
              "      <td>4232095</td>\n",
              "    </tr>\n",
              "    <tr>\n",
              "      <th>48</th>\n",
              "      <td>Argentina</td>\n",
              "      <td>1952</td>\n",
              "      <td>17876956</td>\n",
              "    </tr>\n",
              "  </tbody>\n",
              "</table>\n",
              "</div>"
            ],
            "text/plain": [
              "        country  year  population\n",
              "0   Afghanistan  1952     8425333\n",
              "12      Albania  1952     1282697\n",
              "24      Algeria  1952     9279525\n",
              "36       Angola  1952     4232095\n",
              "48    Argentina  1952    17876956"
            ]
          },
          "metadata": {
            "tags": []
          },
          "execution_count": 3
        }
      ]
    },
    {
      "cell_type": "markdown",
      "metadata": {
        "id": "QlFgi66xLTCc"
      },
      "source": [
        "##Extract the rows where the year is 2007"
      ]
    },
    {
      "cell_type": "code",
      "metadata": {
        "id": "vz1lOuqwhXLS",
        "colab": {
          "base_uri": "https://localhost:8080/",
          "height": 197
        },
        "outputId": "3d81647e-51f7-4263-a034-5f95a57b36b3"
      },
      "source": [
        "c_07 = countries.loc[countries['year'] == 2007]\n",
        "c_07.head()"
      ],
      "execution_count": null,
      "outputs": [
        {
          "output_type": "execute_result",
          "data": {
            "text/html": [
              "<div>\n",
              "<style scoped>\n",
              "    .dataframe tbody tr th:only-of-type {\n",
              "        vertical-align: middle;\n",
              "    }\n",
              "\n",
              "    .dataframe tbody tr th {\n",
              "        vertical-align: top;\n",
              "    }\n",
              "\n",
              "    .dataframe thead th {\n",
              "        text-align: right;\n",
              "    }\n",
              "</style>\n",
              "<table border=\"1\" class=\"dataframe\">\n",
              "  <thead>\n",
              "    <tr style=\"text-align: right;\">\n",
              "      <th></th>\n",
              "      <th>country</th>\n",
              "      <th>year</th>\n",
              "      <th>population</th>\n",
              "    </tr>\n",
              "  </thead>\n",
              "  <tbody>\n",
              "    <tr>\n",
              "      <th>11</th>\n",
              "      <td>Afghanistan</td>\n",
              "      <td>2007</td>\n",
              "      <td>31889923</td>\n",
              "    </tr>\n",
              "    <tr>\n",
              "      <th>23</th>\n",
              "      <td>Albania</td>\n",
              "      <td>2007</td>\n",
              "      <td>3600523</td>\n",
              "    </tr>\n",
              "    <tr>\n",
              "      <th>35</th>\n",
              "      <td>Algeria</td>\n",
              "      <td>2007</td>\n",
              "      <td>33333216</td>\n",
              "    </tr>\n",
              "    <tr>\n",
              "      <th>47</th>\n",
              "      <td>Angola</td>\n",
              "      <td>2007</td>\n",
              "      <td>12420476</td>\n",
              "    </tr>\n",
              "    <tr>\n",
              "      <th>59</th>\n",
              "      <td>Argentina</td>\n",
              "      <td>2007</td>\n",
              "      <td>40301927</td>\n",
              "    </tr>\n",
              "  </tbody>\n",
              "</table>\n",
              "</div>"
            ],
            "text/plain": [
              "        country  year  population\n",
              "11  Afghanistan  2007    31889923\n",
              "23      Albania  2007     3600523\n",
              "35      Algeria  2007    33333216\n",
              "47       Angola  2007    12420476\n",
              "59    Argentina  2007    40301927"
            ]
          },
          "metadata": {
            "tags": []
          },
          "execution_count": 4
        }
      ]
    },
    {
      "cell_type": "code",
      "metadata": {
        "id": "Hrry9NiUjhnE",
        "colab": {
          "base_uri": "https://localhost:8080/",
          "height": 34
        },
        "outputId": "7ee1e41b-7631-4cde-c89e-189f71728392"
      },
      "source": [
        "type(c_52)"
      ],
      "execution_count": null,
      "outputs": [
        {
          "output_type": "execute_result",
          "data": {
            "text/plain": [
              "pandas.core.frame.DataFrame"
            ]
          },
          "metadata": {
            "tags": []
          },
          "execution_count": 5
        }
      ]
    },
    {
      "cell_type": "markdown",
      "metadata": {
        "id": "CM3IZR1QLZ_O"
      },
      "source": [
        "##Merge the '52 and the '07 dataframes together"
      ]
    },
    {
      "cell_type": "code",
      "metadata": {
        "id": "JYpr4xZyjnjP"
      },
      "source": [
        "c_merge = c_52.merge(c_07, left_on='country', right_on='country')"
      ],
      "execution_count": null,
      "outputs": []
    },
    {
      "cell_type": "code",
      "metadata": {
        "id": "MrbzWPdfj_dJ",
        "colab": {
          "base_uri": "https://localhost:8080/",
          "height": 197
        },
        "outputId": "61162f89-a104-4b4a-8ff4-b730aa2201c0"
      },
      "source": [
        "c_merge.head()"
      ],
      "execution_count": null,
      "outputs": [
        {
          "output_type": "execute_result",
          "data": {
            "text/html": [
              "<div>\n",
              "<style scoped>\n",
              "    .dataframe tbody tr th:only-of-type {\n",
              "        vertical-align: middle;\n",
              "    }\n",
              "\n",
              "    .dataframe tbody tr th {\n",
              "        vertical-align: top;\n",
              "    }\n",
              "\n",
              "    .dataframe thead th {\n",
              "        text-align: right;\n",
              "    }\n",
              "</style>\n",
              "<table border=\"1\" class=\"dataframe\">\n",
              "  <thead>\n",
              "    <tr style=\"text-align: right;\">\n",
              "      <th></th>\n",
              "      <th>country</th>\n",
              "      <th>year_x</th>\n",
              "      <th>population_x</th>\n",
              "      <th>year_y</th>\n",
              "      <th>population_y</th>\n",
              "    </tr>\n",
              "  </thead>\n",
              "  <tbody>\n",
              "    <tr>\n",
              "      <th>0</th>\n",
              "      <td>Afghanistan</td>\n",
              "      <td>1952</td>\n",
              "      <td>8425333</td>\n",
              "      <td>2007</td>\n",
              "      <td>31889923</td>\n",
              "    </tr>\n",
              "    <tr>\n",
              "      <th>1</th>\n",
              "      <td>Albania</td>\n",
              "      <td>1952</td>\n",
              "      <td>1282697</td>\n",
              "      <td>2007</td>\n",
              "      <td>3600523</td>\n",
              "    </tr>\n",
              "    <tr>\n",
              "      <th>2</th>\n",
              "      <td>Algeria</td>\n",
              "      <td>1952</td>\n",
              "      <td>9279525</td>\n",
              "      <td>2007</td>\n",
              "      <td>33333216</td>\n",
              "    </tr>\n",
              "    <tr>\n",
              "      <th>3</th>\n",
              "      <td>Angola</td>\n",
              "      <td>1952</td>\n",
              "      <td>4232095</td>\n",
              "      <td>2007</td>\n",
              "      <td>12420476</td>\n",
              "    </tr>\n",
              "    <tr>\n",
              "      <th>4</th>\n",
              "      <td>Argentina</td>\n",
              "      <td>1952</td>\n",
              "      <td>17876956</td>\n",
              "      <td>2007</td>\n",
              "      <td>40301927</td>\n",
              "    </tr>\n",
              "  </tbody>\n",
              "</table>\n",
              "</div>"
            ],
            "text/plain": [
              "       country  year_x  population_x  year_y  population_y\n",
              "0  Afghanistan    1952       8425333    2007      31889923\n",
              "1      Albania    1952       1282697    2007       3600523\n",
              "2      Algeria    1952       9279525    2007      33333216\n",
              "3       Angola    1952       4232095    2007      12420476\n",
              "4    Argentina    1952      17876956    2007      40301927"
            ]
          },
          "metadata": {
            "tags": []
          },
          "execution_count": 7
        }
      ]
    },
    {
      "cell_type": "markdown",
      "metadata": {
        "id": "golBTehqL5Kh"
      },
      "source": [
        "##Drop both the year columns"
      ]
    },
    {
      "cell_type": "code",
      "metadata": {
        "id": "kiVh01d-nY-u",
        "colab": {
          "base_uri": "https://localhost:8080/",
          "height": 1906
        },
        "outputId": "338a485a-a001-4388-b881-1349791b1f8c"
      },
      "source": [
        "c_merge.drop(['year_x', 'year_y'], axis=1)\n"
      ],
      "execution_count": null,
      "outputs": [
        {
          "output_type": "execute_result",
          "data": {
            "text/html": [
              "<div>\n",
              "<style scoped>\n",
              "    .dataframe tbody tr th:only-of-type {\n",
              "        vertical-align: middle;\n",
              "    }\n",
              "\n",
              "    .dataframe tbody tr th {\n",
              "        vertical-align: top;\n",
              "    }\n",
              "\n",
              "    .dataframe thead th {\n",
              "        text-align: right;\n",
              "    }\n",
              "</style>\n",
              "<table border=\"1\" class=\"dataframe\">\n",
              "  <thead>\n",
              "    <tr style=\"text-align: right;\">\n",
              "      <th></th>\n",
              "      <th>country</th>\n",
              "      <th>population_x</th>\n",
              "      <th>population_y</th>\n",
              "    </tr>\n",
              "  </thead>\n",
              "  <tbody>\n",
              "    <tr>\n",
              "      <th>0</th>\n",
              "      <td>Afghanistan</td>\n",
              "      <td>8425333</td>\n",
              "      <td>31889923</td>\n",
              "    </tr>\n",
              "    <tr>\n",
              "      <th>1</th>\n",
              "      <td>Albania</td>\n",
              "      <td>1282697</td>\n",
              "      <td>3600523</td>\n",
              "    </tr>\n",
              "    <tr>\n",
              "      <th>2</th>\n",
              "      <td>Algeria</td>\n",
              "      <td>9279525</td>\n",
              "      <td>33333216</td>\n",
              "    </tr>\n",
              "    <tr>\n",
              "      <th>3</th>\n",
              "      <td>Angola</td>\n",
              "      <td>4232095</td>\n",
              "      <td>12420476</td>\n",
              "    </tr>\n",
              "    <tr>\n",
              "      <th>4</th>\n",
              "      <td>Argentina</td>\n",
              "      <td>17876956</td>\n",
              "      <td>40301927</td>\n",
              "    </tr>\n",
              "    <tr>\n",
              "      <th>5</th>\n",
              "      <td>Australia</td>\n",
              "      <td>8691212</td>\n",
              "      <td>20434176</td>\n",
              "    </tr>\n",
              "    <tr>\n",
              "      <th>6</th>\n",
              "      <td>Austria</td>\n",
              "      <td>6927772</td>\n",
              "      <td>8199783</td>\n",
              "    </tr>\n",
              "    <tr>\n",
              "      <th>7</th>\n",
              "      <td>Bahrain</td>\n",
              "      <td>120447</td>\n",
              "      <td>708573</td>\n",
              "    </tr>\n",
              "    <tr>\n",
              "      <th>8</th>\n",
              "      <td>Bangladesh</td>\n",
              "      <td>46886859</td>\n",
              "      <td>150448339</td>\n",
              "    </tr>\n",
              "    <tr>\n",
              "      <th>9</th>\n",
              "      <td>Belgium</td>\n",
              "      <td>8730405</td>\n",
              "      <td>10392226</td>\n",
              "    </tr>\n",
              "    <tr>\n",
              "      <th>10</th>\n",
              "      <td>Benin</td>\n",
              "      <td>1738315</td>\n",
              "      <td>8078314</td>\n",
              "    </tr>\n",
              "    <tr>\n",
              "      <th>11</th>\n",
              "      <td>Bolivia</td>\n",
              "      <td>2883315</td>\n",
              "      <td>9119152</td>\n",
              "    </tr>\n",
              "    <tr>\n",
              "      <th>12</th>\n",
              "      <td>Bosnia and Herzegovina</td>\n",
              "      <td>2791000</td>\n",
              "      <td>4552198</td>\n",
              "    </tr>\n",
              "    <tr>\n",
              "      <th>13</th>\n",
              "      <td>Botswana</td>\n",
              "      <td>442308</td>\n",
              "      <td>1639131</td>\n",
              "    </tr>\n",
              "    <tr>\n",
              "      <th>14</th>\n",
              "      <td>Brazil</td>\n",
              "      <td>56602560</td>\n",
              "      <td>190010647</td>\n",
              "    </tr>\n",
              "    <tr>\n",
              "      <th>15</th>\n",
              "      <td>Bulgaria</td>\n",
              "      <td>7274900</td>\n",
              "      <td>7322858</td>\n",
              "    </tr>\n",
              "    <tr>\n",
              "      <th>16</th>\n",
              "      <td>Burkina Faso</td>\n",
              "      <td>4469979</td>\n",
              "      <td>14326203</td>\n",
              "    </tr>\n",
              "    <tr>\n",
              "      <th>17</th>\n",
              "      <td>Burundi</td>\n",
              "      <td>2445618</td>\n",
              "      <td>8390505</td>\n",
              "    </tr>\n",
              "    <tr>\n",
              "      <th>18</th>\n",
              "      <td>Cambodia</td>\n",
              "      <td>4693836</td>\n",
              "      <td>14131858</td>\n",
              "    </tr>\n",
              "    <tr>\n",
              "      <th>19</th>\n",
              "      <td>Cameroon</td>\n",
              "      <td>5009067</td>\n",
              "      <td>17696293</td>\n",
              "    </tr>\n",
              "    <tr>\n",
              "      <th>20</th>\n",
              "      <td>Canada</td>\n",
              "      <td>14785584</td>\n",
              "      <td>33390141</td>\n",
              "    </tr>\n",
              "    <tr>\n",
              "      <th>21</th>\n",
              "      <td>Central African Republic</td>\n",
              "      <td>1291695</td>\n",
              "      <td>4369038</td>\n",
              "    </tr>\n",
              "    <tr>\n",
              "      <th>22</th>\n",
              "      <td>Chad</td>\n",
              "      <td>2682462</td>\n",
              "      <td>10238807</td>\n",
              "    </tr>\n",
              "    <tr>\n",
              "      <th>23</th>\n",
              "      <td>Chile</td>\n",
              "      <td>6377619</td>\n",
              "      <td>16284741</td>\n",
              "    </tr>\n",
              "    <tr>\n",
              "      <th>24</th>\n",
              "      <td>China</td>\n",
              "      <td>556263527</td>\n",
              "      <td>1318683096</td>\n",
              "    </tr>\n",
              "    <tr>\n",
              "      <th>25</th>\n",
              "      <td>Colombia</td>\n",
              "      <td>12350771</td>\n",
              "      <td>44227550</td>\n",
              "    </tr>\n",
              "    <tr>\n",
              "      <th>26</th>\n",
              "      <td>Comoros</td>\n",
              "      <td>153936</td>\n",
              "      <td>710960</td>\n",
              "    </tr>\n",
              "    <tr>\n",
              "      <th>27</th>\n",
              "      <td>Congo, Dem. Rep.</td>\n",
              "      <td>14100005</td>\n",
              "      <td>64606759</td>\n",
              "    </tr>\n",
              "    <tr>\n",
              "      <th>28</th>\n",
              "      <td>Congo, Rep.</td>\n",
              "      <td>854885</td>\n",
              "      <td>3800610</td>\n",
              "    </tr>\n",
              "    <tr>\n",
              "      <th>29</th>\n",
              "      <td>Costa Rica</td>\n",
              "      <td>926317</td>\n",
              "      <td>4133884</td>\n",
              "    </tr>\n",
              "    <tr>\n",
              "      <th>...</th>\n",
              "      <td>...</td>\n",
              "      <td>...</td>\n",
              "      <td>...</td>\n",
              "    </tr>\n",
              "    <tr>\n",
              "      <th>112</th>\n",
              "      <td>Sierra Leone</td>\n",
              "      <td>2143249</td>\n",
              "      <td>6144562</td>\n",
              "    </tr>\n",
              "    <tr>\n",
              "      <th>113</th>\n",
              "      <td>Singapore</td>\n",
              "      <td>1127000</td>\n",
              "      <td>4553009</td>\n",
              "    </tr>\n",
              "    <tr>\n",
              "      <th>114</th>\n",
              "      <td>Slovak Republic</td>\n",
              "      <td>3558137</td>\n",
              "      <td>5447502</td>\n",
              "    </tr>\n",
              "    <tr>\n",
              "      <th>115</th>\n",
              "      <td>Slovenia</td>\n",
              "      <td>1489518</td>\n",
              "      <td>2009245</td>\n",
              "    </tr>\n",
              "    <tr>\n",
              "      <th>116</th>\n",
              "      <td>Somalia</td>\n",
              "      <td>2526994</td>\n",
              "      <td>9118773</td>\n",
              "    </tr>\n",
              "    <tr>\n",
              "      <th>117</th>\n",
              "      <td>South Africa</td>\n",
              "      <td>14264935</td>\n",
              "      <td>43997828</td>\n",
              "    </tr>\n",
              "    <tr>\n",
              "      <th>118</th>\n",
              "      <td>Spain</td>\n",
              "      <td>28549870</td>\n",
              "      <td>40448191</td>\n",
              "    </tr>\n",
              "    <tr>\n",
              "      <th>119</th>\n",
              "      <td>Sri Lanka</td>\n",
              "      <td>7982342</td>\n",
              "      <td>20378239</td>\n",
              "    </tr>\n",
              "    <tr>\n",
              "      <th>120</th>\n",
              "      <td>Sudan</td>\n",
              "      <td>8504667</td>\n",
              "      <td>42292929</td>\n",
              "    </tr>\n",
              "    <tr>\n",
              "      <th>121</th>\n",
              "      <td>Swaziland</td>\n",
              "      <td>290243</td>\n",
              "      <td>1133066</td>\n",
              "    </tr>\n",
              "    <tr>\n",
              "      <th>122</th>\n",
              "      <td>Sweden</td>\n",
              "      <td>7124673</td>\n",
              "      <td>9031088</td>\n",
              "    </tr>\n",
              "    <tr>\n",
              "      <th>123</th>\n",
              "      <td>Switzerland</td>\n",
              "      <td>4815000</td>\n",
              "      <td>7554661</td>\n",
              "    </tr>\n",
              "    <tr>\n",
              "      <th>124</th>\n",
              "      <td>Syria</td>\n",
              "      <td>3661549</td>\n",
              "      <td>19314747</td>\n",
              "    </tr>\n",
              "    <tr>\n",
              "      <th>125</th>\n",
              "      <td>Taiwan</td>\n",
              "      <td>8550362</td>\n",
              "      <td>23174294</td>\n",
              "    </tr>\n",
              "    <tr>\n",
              "      <th>126</th>\n",
              "      <td>Tanzania</td>\n",
              "      <td>8322925</td>\n",
              "      <td>38139640</td>\n",
              "    </tr>\n",
              "    <tr>\n",
              "      <th>127</th>\n",
              "      <td>Thailand</td>\n",
              "      <td>21289402</td>\n",
              "      <td>65068149</td>\n",
              "    </tr>\n",
              "    <tr>\n",
              "      <th>128</th>\n",
              "      <td>Togo</td>\n",
              "      <td>1219113</td>\n",
              "      <td>5701579</td>\n",
              "    </tr>\n",
              "    <tr>\n",
              "      <th>129</th>\n",
              "      <td>Trinidad and Tobago</td>\n",
              "      <td>662850</td>\n",
              "      <td>1056608</td>\n",
              "    </tr>\n",
              "    <tr>\n",
              "      <th>130</th>\n",
              "      <td>Tunisia</td>\n",
              "      <td>3647735</td>\n",
              "      <td>10276158</td>\n",
              "    </tr>\n",
              "    <tr>\n",
              "      <th>131</th>\n",
              "      <td>Turkey</td>\n",
              "      <td>22235677</td>\n",
              "      <td>71158647</td>\n",
              "    </tr>\n",
              "    <tr>\n",
              "      <th>132</th>\n",
              "      <td>Uganda</td>\n",
              "      <td>5824797</td>\n",
              "      <td>29170398</td>\n",
              "    </tr>\n",
              "    <tr>\n",
              "      <th>133</th>\n",
              "      <td>United Kingdom</td>\n",
              "      <td>50430000</td>\n",
              "      <td>60776238</td>\n",
              "    </tr>\n",
              "    <tr>\n",
              "      <th>134</th>\n",
              "      <td>United States</td>\n",
              "      <td>157553000</td>\n",
              "      <td>301139947</td>\n",
              "    </tr>\n",
              "    <tr>\n",
              "      <th>135</th>\n",
              "      <td>Uruguay</td>\n",
              "      <td>2252965</td>\n",
              "      <td>3447496</td>\n",
              "    </tr>\n",
              "    <tr>\n",
              "      <th>136</th>\n",
              "      <td>Venezuela</td>\n",
              "      <td>5439568</td>\n",
              "      <td>26084662</td>\n",
              "    </tr>\n",
              "    <tr>\n",
              "      <th>137</th>\n",
              "      <td>Vietnam</td>\n",
              "      <td>26246839</td>\n",
              "      <td>85262356</td>\n",
              "    </tr>\n",
              "    <tr>\n",
              "      <th>138</th>\n",
              "      <td>West Bank and Gaza</td>\n",
              "      <td>1030585</td>\n",
              "      <td>4018332</td>\n",
              "    </tr>\n",
              "    <tr>\n",
              "      <th>139</th>\n",
              "      <td>Yemen, Rep.</td>\n",
              "      <td>4963829</td>\n",
              "      <td>22211743</td>\n",
              "    </tr>\n",
              "    <tr>\n",
              "      <th>140</th>\n",
              "      <td>Zambia</td>\n",
              "      <td>2672000</td>\n",
              "      <td>11746035</td>\n",
              "    </tr>\n",
              "    <tr>\n",
              "      <th>141</th>\n",
              "      <td>Zimbabwe</td>\n",
              "      <td>3080907</td>\n",
              "      <td>12311143</td>\n",
              "    </tr>\n",
              "  </tbody>\n",
              "</table>\n",
              "<p>142 rows × 3 columns</p>\n",
              "</div>"
            ],
            "text/plain": [
              "                      country  population_x  population_y\n",
              "0                 Afghanistan       8425333      31889923\n",
              "1                     Albania       1282697       3600523\n",
              "2                     Algeria       9279525      33333216\n",
              "3                      Angola       4232095      12420476\n",
              "4                   Argentina      17876956      40301927\n",
              "5                   Australia       8691212      20434176\n",
              "6                     Austria       6927772       8199783\n",
              "7                     Bahrain        120447        708573\n",
              "8                  Bangladesh      46886859     150448339\n",
              "9                     Belgium       8730405      10392226\n",
              "10                      Benin       1738315       8078314\n",
              "11                    Bolivia       2883315       9119152\n",
              "12     Bosnia and Herzegovina       2791000       4552198\n",
              "13                   Botswana        442308       1639131\n",
              "14                     Brazil      56602560     190010647\n",
              "15                   Bulgaria       7274900       7322858\n",
              "16               Burkina Faso       4469979      14326203\n",
              "17                    Burundi       2445618       8390505\n",
              "18                   Cambodia       4693836      14131858\n",
              "19                   Cameroon       5009067      17696293\n",
              "20                     Canada      14785584      33390141\n",
              "21   Central African Republic       1291695       4369038\n",
              "22                       Chad       2682462      10238807\n",
              "23                      Chile       6377619      16284741\n",
              "24                      China     556263527    1318683096\n",
              "25                   Colombia      12350771      44227550\n",
              "26                    Comoros        153936        710960\n",
              "27           Congo, Dem. Rep.      14100005      64606759\n",
              "28                Congo, Rep.        854885       3800610\n",
              "29                 Costa Rica        926317       4133884\n",
              "..                        ...           ...           ...\n",
              "112              Sierra Leone       2143249       6144562\n",
              "113                 Singapore       1127000       4553009\n",
              "114           Slovak Republic       3558137       5447502\n",
              "115                  Slovenia       1489518       2009245\n",
              "116                   Somalia       2526994       9118773\n",
              "117              South Africa      14264935      43997828\n",
              "118                     Spain      28549870      40448191\n",
              "119                 Sri Lanka       7982342      20378239\n",
              "120                     Sudan       8504667      42292929\n",
              "121                 Swaziland        290243       1133066\n",
              "122                    Sweden       7124673       9031088\n",
              "123               Switzerland       4815000       7554661\n",
              "124                     Syria       3661549      19314747\n",
              "125                    Taiwan       8550362      23174294\n",
              "126                  Tanzania       8322925      38139640\n",
              "127                  Thailand      21289402      65068149\n",
              "128                      Togo       1219113       5701579\n",
              "129       Trinidad and Tobago        662850       1056608\n",
              "130                   Tunisia       3647735      10276158\n",
              "131                    Turkey      22235677      71158647\n",
              "132                    Uganda       5824797      29170398\n",
              "133            United Kingdom      50430000      60776238\n",
              "134             United States     157553000     301139947\n",
              "135                   Uruguay       2252965       3447496\n",
              "136                 Venezuela       5439568      26084662\n",
              "137                   Vietnam      26246839      85262356\n",
              "138        West Bank and Gaza       1030585       4018332\n",
              "139               Yemen, Rep.       4963829      22211743\n",
              "140                    Zambia       2672000      11746035\n",
              "141                  Zimbabwe       3080907      12311143\n",
              "\n",
              "[142 rows x 3 columns]"
            ]
          },
          "metadata": {
            "tags": []
          },
          "execution_count": 8
        }
      ]
    },
    {
      "cell_type": "code",
      "metadata": {
        "id": "3Jo-snx-oYC9",
        "colab": {
          "base_uri": "https://localhost:8080/",
          "height": 197
        },
        "outputId": "f70b5d0f-cad3-4b93-8ec2-67c262651faa"
      },
      "source": [
        "c_merge.head()"
      ],
      "execution_count": null,
      "outputs": [
        {
          "output_type": "execute_result",
          "data": {
            "text/html": [
              "<div>\n",
              "<style scoped>\n",
              "    .dataframe tbody tr th:only-of-type {\n",
              "        vertical-align: middle;\n",
              "    }\n",
              "\n",
              "    .dataframe tbody tr th {\n",
              "        vertical-align: top;\n",
              "    }\n",
              "\n",
              "    .dataframe thead th {\n",
              "        text-align: right;\n",
              "    }\n",
              "</style>\n",
              "<table border=\"1\" class=\"dataframe\">\n",
              "  <thead>\n",
              "    <tr style=\"text-align: right;\">\n",
              "      <th></th>\n",
              "      <th>country</th>\n",
              "      <th>year_x</th>\n",
              "      <th>population_x</th>\n",
              "      <th>year_y</th>\n",
              "      <th>population_y</th>\n",
              "    </tr>\n",
              "  </thead>\n",
              "  <tbody>\n",
              "    <tr>\n",
              "      <th>0</th>\n",
              "      <td>Afghanistan</td>\n",
              "      <td>1952</td>\n",
              "      <td>8425333</td>\n",
              "      <td>2007</td>\n",
              "      <td>31889923</td>\n",
              "    </tr>\n",
              "    <tr>\n",
              "      <th>1</th>\n",
              "      <td>Albania</td>\n",
              "      <td>1952</td>\n",
              "      <td>1282697</td>\n",
              "      <td>2007</td>\n",
              "      <td>3600523</td>\n",
              "    </tr>\n",
              "    <tr>\n",
              "      <th>2</th>\n",
              "      <td>Algeria</td>\n",
              "      <td>1952</td>\n",
              "      <td>9279525</td>\n",
              "      <td>2007</td>\n",
              "      <td>33333216</td>\n",
              "    </tr>\n",
              "    <tr>\n",
              "      <th>3</th>\n",
              "      <td>Angola</td>\n",
              "      <td>1952</td>\n",
              "      <td>4232095</td>\n",
              "      <td>2007</td>\n",
              "      <td>12420476</td>\n",
              "    </tr>\n",
              "    <tr>\n",
              "      <th>4</th>\n",
              "      <td>Argentina</td>\n",
              "      <td>1952</td>\n",
              "      <td>17876956</td>\n",
              "      <td>2007</td>\n",
              "      <td>40301927</td>\n",
              "    </tr>\n",
              "  </tbody>\n",
              "</table>\n",
              "</div>"
            ],
            "text/plain": [
              "       country  year_x  population_x  year_y  population_y\n",
              "0  Afghanistan    1952       8425333    2007      31889923\n",
              "1      Albania    1952       1282697    2007       3600523\n",
              "2      Algeria    1952       9279525    2007      33333216\n",
              "3       Angola    1952       4232095    2007      12420476\n",
              "4    Argentina    1952      17876956    2007      40301927"
            ]
          },
          "metadata": {
            "tags": []
          },
          "execution_count": 9
        }
      ]
    },
    {
      "cell_type": "markdown",
      "metadata": {
        "id": "Iob6nPgYMaKk"
      },
      "source": [
        "##Create a new column that takes the difference  between the population_y and the population_x column"
      ]
    },
    {
      "cell_type": "code",
      "metadata": {
        "id": "Sf5EzvL8ojwQ"
      },
      "source": [
        "c_merge['population_growth'] = c_merge['population_y'] - c_merge['population_x']"
      ],
      "execution_count": null,
      "outputs": []
    },
    {
      "cell_type": "code",
      "metadata": {
        "id": "NjMtWAVrpwaA",
        "colab": {
          "base_uri": "https://localhost:8080/",
          "height": 197
        },
        "outputId": "6793e88f-230b-4e73-9bd4-4ffb11192a9e"
      },
      "source": [
        "c_merge.head()"
      ],
      "execution_count": null,
      "outputs": [
        {
          "output_type": "execute_result",
          "data": {
            "text/html": [
              "<div>\n",
              "<style scoped>\n",
              "    .dataframe tbody tr th:only-of-type {\n",
              "        vertical-align: middle;\n",
              "    }\n",
              "\n",
              "    .dataframe tbody tr th {\n",
              "        vertical-align: top;\n",
              "    }\n",
              "\n",
              "    .dataframe thead th {\n",
              "        text-align: right;\n",
              "    }\n",
              "</style>\n",
              "<table border=\"1\" class=\"dataframe\">\n",
              "  <thead>\n",
              "    <tr style=\"text-align: right;\">\n",
              "      <th></th>\n",
              "      <th>country</th>\n",
              "      <th>year_x</th>\n",
              "      <th>population_x</th>\n",
              "      <th>year_y</th>\n",
              "      <th>population_y</th>\n",
              "      <th>population_growth</th>\n",
              "    </tr>\n",
              "  </thead>\n",
              "  <tbody>\n",
              "    <tr>\n",
              "      <th>0</th>\n",
              "      <td>Afghanistan</td>\n",
              "      <td>1952</td>\n",
              "      <td>8425333</td>\n",
              "      <td>2007</td>\n",
              "      <td>31889923</td>\n",
              "      <td>23464590</td>\n",
              "    </tr>\n",
              "    <tr>\n",
              "      <th>1</th>\n",
              "      <td>Albania</td>\n",
              "      <td>1952</td>\n",
              "      <td>1282697</td>\n",
              "      <td>2007</td>\n",
              "      <td>3600523</td>\n",
              "      <td>2317826</td>\n",
              "    </tr>\n",
              "    <tr>\n",
              "      <th>2</th>\n",
              "      <td>Algeria</td>\n",
              "      <td>1952</td>\n",
              "      <td>9279525</td>\n",
              "      <td>2007</td>\n",
              "      <td>33333216</td>\n",
              "      <td>24053691</td>\n",
              "    </tr>\n",
              "    <tr>\n",
              "      <th>3</th>\n",
              "      <td>Angola</td>\n",
              "      <td>1952</td>\n",
              "      <td>4232095</td>\n",
              "      <td>2007</td>\n",
              "      <td>12420476</td>\n",
              "      <td>8188381</td>\n",
              "    </tr>\n",
              "    <tr>\n",
              "      <th>4</th>\n",
              "      <td>Argentina</td>\n",
              "      <td>1952</td>\n",
              "      <td>17876956</td>\n",
              "      <td>2007</td>\n",
              "      <td>40301927</td>\n",
              "      <td>22424971</td>\n",
              "    </tr>\n",
              "  </tbody>\n",
              "</table>\n",
              "</div>"
            ],
            "text/plain": [
              "       country  year_x  population_x  year_y  population_y  population_growth\n",
              "0  Afghanistan    1952       8425333    2007      31889923           23464590\n",
              "1      Albania    1952       1282697    2007       3600523            2317826\n",
              "2      Algeria    1952       9279525    2007      33333216           24053691\n",
              "3       Angola    1952       4232095    2007      12420476            8188381\n",
              "4    Argentina    1952      17876956    2007      40301927           22424971"
            ]
          },
          "metadata": {
            "tags": []
          },
          "execution_count": 11
        }
      ]
    },
    {
      "cell_type": "code",
      "metadata": {
        "id": "atawqdiSpzGv",
        "colab": {
          "base_uri": "https://localhost:8080/",
          "height": 34
        },
        "outputId": "673a5911-265a-458b-d292-88eee1163aa1"
      },
      "source": [
        "31889923 - 8425333 #test the math"
      ],
      "execution_count": null,
      "outputs": [
        {
          "output_type": "execute_result",
          "data": {
            "text/plain": [
              "23464590"
            ]
          },
          "metadata": {
            "tags": []
          },
          "execution_count": 12
        }
      ]
    },
    {
      "cell_type": "code",
      "metadata": {
        "id": "jCReJkFGp9Ej",
        "colab": {
          "base_uri": "https://localhost:8080/",
          "height": 34
        },
        "outputId": "c504e4ff-206e-4ed2-8bfd-c41bf32e1f7f"
      },
      "source": [
        "c_merge.shape, type(c_merge)"
      ],
      "execution_count": null,
      "outputs": [
        {
          "output_type": "execute_result",
          "data": {
            "text/plain": [
              "((142, 6), pandas.core.frame.DataFrame)"
            ]
          },
          "metadata": {
            "tags": []
          },
          "execution_count": 13
        }
      ]
    },
    {
      "cell_type": "markdown",
      "metadata": {
        "id": "RWsqWJq1OBla"
      },
      "source": [
        "##Sort the values so you get back the 10 countries with the biggest population growth"
      ]
    },
    {
      "cell_type": "code",
      "metadata": {
        "id": "DNA4G5M9qkSL"
      },
      "source": [
        "c_merge = c_merge.sort_values('population_growth', ascending=False).head(10)"
      ],
      "execution_count": null,
      "outputs": []
    },
    {
      "cell_type": "code",
      "metadata": {
        "id": "9kg2Ibntrtrf",
        "colab": {
          "base_uri": "https://localhost:8080/",
          "height": 347
        },
        "outputId": "57f8e07f-a793-40d5-8cf6-fa597c71bf93"
      },
      "source": [
        "c_merge.head(10)"
      ],
      "execution_count": null,
      "outputs": [
        {
          "output_type": "execute_result",
          "data": {
            "text/html": [
              "<div>\n",
              "<style scoped>\n",
              "    .dataframe tbody tr th:only-of-type {\n",
              "        vertical-align: middle;\n",
              "    }\n",
              "\n",
              "    .dataframe tbody tr th {\n",
              "        vertical-align: top;\n",
              "    }\n",
              "\n",
              "    .dataframe thead th {\n",
              "        text-align: right;\n",
              "    }\n",
              "</style>\n",
              "<table border=\"1\" class=\"dataframe\">\n",
              "  <thead>\n",
              "    <tr style=\"text-align: right;\">\n",
              "      <th></th>\n",
              "      <th>country</th>\n",
              "      <th>year_x</th>\n",
              "      <th>population_x</th>\n",
              "      <th>year_y</th>\n",
              "      <th>population_y</th>\n",
              "      <th>population_growth</th>\n",
              "    </tr>\n",
              "  </thead>\n",
              "  <tbody>\n",
              "    <tr>\n",
              "      <th>24</th>\n",
              "      <td>China</td>\n",
              "      <td>1952</td>\n",
              "      <td>556263527</td>\n",
              "      <td>2007</td>\n",
              "      <td>1318683096</td>\n",
              "      <td>762419569</td>\n",
              "    </tr>\n",
              "    <tr>\n",
              "      <th>58</th>\n",
              "      <td>India</td>\n",
              "      <td>1952</td>\n",
              "      <td>372000000</td>\n",
              "      <td>2007</td>\n",
              "      <td>1110396331</td>\n",
              "      <td>738396331</td>\n",
              "    </tr>\n",
              "    <tr>\n",
              "      <th>134</th>\n",
              "      <td>United States</td>\n",
              "      <td>1952</td>\n",
              "      <td>157553000</td>\n",
              "      <td>2007</td>\n",
              "      <td>301139947</td>\n",
              "      <td>143586947</td>\n",
              "    </tr>\n",
              "    <tr>\n",
              "      <th>59</th>\n",
              "      <td>Indonesia</td>\n",
              "      <td>1952</td>\n",
              "      <td>82052000</td>\n",
              "      <td>2007</td>\n",
              "      <td>223547000</td>\n",
              "      <td>141495000</td>\n",
              "    </tr>\n",
              "    <tr>\n",
              "      <th>14</th>\n",
              "      <td>Brazil</td>\n",
              "      <td>1952</td>\n",
              "      <td>56602560</td>\n",
              "      <td>2007</td>\n",
              "      <td>190010647</td>\n",
              "      <td>133408087</td>\n",
              "    </tr>\n",
              "    <tr>\n",
              "      <th>97</th>\n",
              "      <td>Pakistan</td>\n",
              "      <td>1952</td>\n",
              "      <td>41346560</td>\n",
              "      <td>2007</td>\n",
              "      <td>169270617</td>\n",
              "      <td>127924057</td>\n",
              "    </tr>\n",
              "    <tr>\n",
              "      <th>8</th>\n",
              "      <td>Bangladesh</td>\n",
              "      <td>1952</td>\n",
              "      <td>46886859</td>\n",
              "      <td>2007</td>\n",
              "      <td>150448339</td>\n",
              "      <td>103561480</td>\n",
              "    </tr>\n",
              "    <tr>\n",
              "      <th>94</th>\n",
              "      <td>Nigeria</td>\n",
              "      <td>1952</td>\n",
              "      <td>33119096</td>\n",
              "      <td>2007</td>\n",
              "      <td>135031164</td>\n",
              "      <td>101912068</td>\n",
              "    </tr>\n",
              "    <tr>\n",
              "      <th>82</th>\n",
              "      <td>Mexico</td>\n",
              "      <td>1952</td>\n",
              "      <td>30144317</td>\n",
              "      <td>2007</td>\n",
              "      <td>108700891</td>\n",
              "      <td>78556574</td>\n",
              "    </tr>\n",
              "    <tr>\n",
              "      <th>101</th>\n",
              "      <td>Philippines</td>\n",
              "      <td>1952</td>\n",
              "      <td>22438691</td>\n",
              "      <td>2007</td>\n",
              "      <td>91077287</td>\n",
              "      <td>68638596</td>\n",
              "    </tr>\n",
              "  </tbody>\n",
              "</table>\n",
              "</div>"
            ],
            "text/plain": [
              "           country  year_x  ...  population_y  population_growth\n",
              "24           China    1952  ...    1318683096          762419569\n",
              "58           India    1952  ...    1110396331          738396331\n",
              "134  United States    1952  ...     301139947          143586947\n",
              "59       Indonesia    1952  ...     223547000          141495000\n",
              "14          Brazil    1952  ...     190010647          133408087\n",
              "97        Pakistan    1952  ...     169270617          127924057\n",
              "8       Bangladesh    1952  ...     150448339          103561480\n",
              "94         Nigeria    1952  ...     135031164          101912068\n",
              "82          Mexico    1952  ...     108700891           78556574\n",
              "101    Philippines    1952  ...      91077287           68638596\n",
              "\n",
              "[10 rows x 6 columns]"
            ]
          },
          "metadata": {
            "tags": []
          },
          "execution_count": 15
        }
      ]
    },
    {
      "cell_type": "markdown",
      "metadata": {
        "id": "hZRkpBqZOQJk"
      },
      "source": [
        "##Reset the Index"
      ]
    },
    {
      "cell_type": "code",
      "metadata": {
        "id": "BgMsyC9XsKlG"
      },
      "source": [
        "c_merge = c_merge.reset_index()"
      ],
      "execution_count": null,
      "outputs": []
    },
    {
      "cell_type": "code",
      "metadata": {
        "id": "7t0is-iJs8mp",
        "colab": {
          "base_uri": "https://localhost:8080/",
          "height": 347
        },
        "outputId": "ba7929db-6626-4a4e-ea96-02b3c75ac497"
      },
      "source": [
        "c_merge.head(10)"
      ],
      "execution_count": null,
      "outputs": [
        {
          "output_type": "execute_result",
          "data": {
            "text/html": [
              "<div>\n",
              "<style scoped>\n",
              "    .dataframe tbody tr th:only-of-type {\n",
              "        vertical-align: middle;\n",
              "    }\n",
              "\n",
              "    .dataframe tbody tr th {\n",
              "        vertical-align: top;\n",
              "    }\n",
              "\n",
              "    .dataframe thead th {\n",
              "        text-align: right;\n",
              "    }\n",
              "</style>\n",
              "<table border=\"1\" class=\"dataframe\">\n",
              "  <thead>\n",
              "    <tr style=\"text-align: right;\">\n",
              "      <th></th>\n",
              "      <th>index</th>\n",
              "      <th>country</th>\n",
              "      <th>year_x</th>\n",
              "      <th>population_x</th>\n",
              "      <th>year_y</th>\n",
              "      <th>population_y</th>\n",
              "      <th>population_growth</th>\n",
              "    </tr>\n",
              "  </thead>\n",
              "  <tbody>\n",
              "    <tr>\n",
              "      <th>0</th>\n",
              "      <td>24</td>\n",
              "      <td>China</td>\n",
              "      <td>1952</td>\n",
              "      <td>556263527</td>\n",
              "      <td>2007</td>\n",
              "      <td>1318683096</td>\n",
              "      <td>762419569</td>\n",
              "    </tr>\n",
              "    <tr>\n",
              "      <th>1</th>\n",
              "      <td>58</td>\n",
              "      <td>India</td>\n",
              "      <td>1952</td>\n",
              "      <td>372000000</td>\n",
              "      <td>2007</td>\n",
              "      <td>1110396331</td>\n",
              "      <td>738396331</td>\n",
              "    </tr>\n",
              "    <tr>\n",
              "      <th>2</th>\n",
              "      <td>134</td>\n",
              "      <td>United States</td>\n",
              "      <td>1952</td>\n",
              "      <td>157553000</td>\n",
              "      <td>2007</td>\n",
              "      <td>301139947</td>\n",
              "      <td>143586947</td>\n",
              "    </tr>\n",
              "    <tr>\n",
              "      <th>3</th>\n",
              "      <td>59</td>\n",
              "      <td>Indonesia</td>\n",
              "      <td>1952</td>\n",
              "      <td>82052000</td>\n",
              "      <td>2007</td>\n",
              "      <td>223547000</td>\n",
              "      <td>141495000</td>\n",
              "    </tr>\n",
              "    <tr>\n",
              "      <th>4</th>\n",
              "      <td>14</td>\n",
              "      <td>Brazil</td>\n",
              "      <td>1952</td>\n",
              "      <td>56602560</td>\n",
              "      <td>2007</td>\n",
              "      <td>190010647</td>\n",
              "      <td>133408087</td>\n",
              "    </tr>\n",
              "    <tr>\n",
              "      <th>5</th>\n",
              "      <td>97</td>\n",
              "      <td>Pakistan</td>\n",
              "      <td>1952</td>\n",
              "      <td>41346560</td>\n",
              "      <td>2007</td>\n",
              "      <td>169270617</td>\n",
              "      <td>127924057</td>\n",
              "    </tr>\n",
              "    <tr>\n",
              "      <th>6</th>\n",
              "      <td>8</td>\n",
              "      <td>Bangladesh</td>\n",
              "      <td>1952</td>\n",
              "      <td>46886859</td>\n",
              "      <td>2007</td>\n",
              "      <td>150448339</td>\n",
              "      <td>103561480</td>\n",
              "    </tr>\n",
              "    <tr>\n",
              "      <th>7</th>\n",
              "      <td>94</td>\n",
              "      <td>Nigeria</td>\n",
              "      <td>1952</td>\n",
              "      <td>33119096</td>\n",
              "      <td>2007</td>\n",
              "      <td>135031164</td>\n",
              "      <td>101912068</td>\n",
              "    </tr>\n",
              "    <tr>\n",
              "      <th>8</th>\n",
              "      <td>82</td>\n",
              "      <td>Mexico</td>\n",
              "      <td>1952</td>\n",
              "      <td>30144317</td>\n",
              "      <td>2007</td>\n",
              "      <td>108700891</td>\n",
              "      <td>78556574</td>\n",
              "    </tr>\n",
              "    <tr>\n",
              "      <th>9</th>\n",
              "      <td>101</td>\n",
              "      <td>Philippines</td>\n",
              "      <td>1952</td>\n",
              "      <td>22438691</td>\n",
              "      <td>2007</td>\n",
              "      <td>91077287</td>\n",
              "      <td>68638596</td>\n",
              "    </tr>\n",
              "  </tbody>\n",
              "</table>\n",
              "</div>"
            ],
            "text/plain": [
              "   index        country  year_x  ...  year_y  population_y  population_growth\n",
              "0     24          China    1952  ...    2007    1318683096          762419569\n",
              "1     58          India    1952  ...    2007    1110396331          738396331\n",
              "2    134  United States    1952  ...    2007     301139947          143586947\n",
              "3     59      Indonesia    1952  ...    2007     223547000          141495000\n",
              "4     14         Brazil    1952  ...    2007     190010647          133408087\n",
              "5     97       Pakistan    1952  ...    2007     169270617          127924057\n",
              "6      8     Bangladesh    1952  ...    2007     150448339          103561480\n",
              "7     94        Nigeria    1952  ...    2007     135031164          101912068\n",
              "8     82         Mexico    1952  ...    2007     108700891           78556574\n",
              "9    101    Philippines    1952  ...    2007      91077287           68638596\n",
              "\n",
              "[10 rows x 7 columns]"
            ]
          },
          "metadata": {
            "tags": []
          },
          "execution_count": 17
        }
      ]
    },
    {
      "cell_type": "code",
      "metadata": {
        "id": "JuqpnfOH8aRz",
        "colab": {
          "base_uri": "https://localhost:8080/",
          "height": 34
        },
        "outputId": "938cf046-e358-41f7-c92a-2beeb8d74ab1"
      },
      "source": [
        "c_merge.shape"
      ],
      "execution_count": null,
      "outputs": [
        {
          "output_type": "execute_result",
          "data": {
            "text/plain": [
              "(10, 7)"
            ]
          },
          "metadata": {
            "tags": []
          },
          "execution_count": 19
        }
      ]
    },
    {
      "cell_type": "markdown",
      "metadata": {
        "id": "YAtI4fk1Oe1F"
      },
      "source": [
        "##Drop the index column"
      ]
    },
    {
      "cell_type": "code",
      "metadata": {
        "id": "pcBazXfM8w0S"
      },
      "source": [
        "c_merge = c_merge.drop(['index'], axis=1)"
      ],
      "execution_count": null,
      "outputs": []
    },
    {
      "cell_type": "code",
      "metadata": {
        "id": "BtlwYbO59Utv",
        "colab": {
          "base_uri": "https://localhost:8080/",
          "height": 34
        },
        "outputId": "8a1e9577-8ce1-4f9a-b37a-fed1eba83c1f"
      },
      "source": [
        "c_merge.shape"
      ],
      "execution_count": null,
      "outputs": [
        {
          "output_type": "execute_result",
          "data": {
            "text/plain": [
              "(10, 6)"
            ]
          },
          "metadata": {
            "tags": []
          },
          "execution_count": 24
        }
      ]
    },
    {
      "cell_type": "markdown",
      "metadata": {
        "id": "QphSGrQhPKAQ"
      },
      "source": [
        "##We have our top ten countries with the highest population from the years between 1952 and 2007!"
      ]
    },
    {
      "cell_type": "code",
      "metadata": {
        "id": "jWEyg1Hq9aBj",
        "colab": {
          "base_uri": "https://localhost:8080/",
          "height": 347
        },
        "outputId": "01418ada-9a70-4db3-b8d3-07ab04a05375"
      },
      "source": [
        "c_merge"
      ],
      "execution_count": null,
      "outputs": [
        {
          "output_type": "execute_result",
          "data": {
            "text/html": [
              "<div>\n",
              "<style scoped>\n",
              "    .dataframe tbody tr th:only-of-type {\n",
              "        vertical-align: middle;\n",
              "    }\n",
              "\n",
              "    .dataframe tbody tr th {\n",
              "        vertical-align: top;\n",
              "    }\n",
              "\n",
              "    .dataframe thead th {\n",
              "        text-align: right;\n",
              "    }\n",
              "</style>\n",
              "<table border=\"1\" class=\"dataframe\">\n",
              "  <thead>\n",
              "    <tr style=\"text-align: right;\">\n",
              "      <th></th>\n",
              "      <th>country</th>\n",
              "      <th>year_x</th>\n",
              "      <th>population_x</th>\n",
              "      <th>year_y</th>\n",
              "      <th>population_y</th>\n",
              "      <th>population_growth</th>\n",
              "    </tr>\n",
              "  </thead>\n",
              "  <tbody>\n",
              "    <tr>\n",
              "      <th>0</th>\n",
              "      <td>China</td>\n",
              "      <td>1952</td>\n",
              "      <td>556263527</td>\n",
              "      <td>2007</td>\n",
              "      <td>1318683096</td>\n",
              "      <td>762419569</td>\n",
              "    </tr>\n",
              "    <tr>\n",
              "      <th>1</th>\n",
              "      <td>India</td>\n",
              "      <td>1952</td>\n",
              "      <td>372000000</td>\n",
              "      <td>2007</td>\n",
              "      <td>1110396331</td>\n",
              "      <td>738396331</td>\n",
              "    </tr>\n",
              "    <tr>\n",
              "      <th>2</th>\n",
              "      <td>United States</td>\n",
              "      <td>1952</td>\n",
              "      <td>157553000</td>\n",
              "      <td>2007</td>\n",
              "      <td>301139947</td>\n",
              "      <td>143586947</td>\n",
              "    </tr>\n",
              "    <tr>\n",
              "      <th>3</th>\n",
              "      <td>Indonesia</td>\n",
              "      <td>1952</td>\n",
              "      <td>82052000</td>\n",
              "      <td>2007</td>\n",
              "      <td>223547000</td>\n",
              "      <td>141495000</td>\n",
              "    </tr>\n",
              "    <tr>\n",
              "      <th>4</th>\n",
              "      <td>Brazil</td>\n",
              "      <td>1952</td>\n",
              "      <td>56602560</td>\n",
              "      <td>2007</td>\n",
              "      <td>190010647</td>\n",
              "      <td>133408087</td>\n",
              "    </tr>\n",
              "    <tr>\n",
              "      <th>5</th>\n",
              "      <td>Pakistan</td>\n",
              "      <td>1952</td>\n",
              "      <td>41346560</td>\n",
              "      <td>2007</td>\n",
              "      <td>169270617</td>\n",
              "      <td>127924057</td>\n",
              "    </tr>\n",
              "    <tr>\n",
              "      <th>6</th>\n",
              "      <td>Bangladesh</td>\n",
              "      <td>1952</td>\n",
              "      <td>46886859</td>\n",
              "      <td>2007</td>\n",
              "      <td>150448339</td>\n",
              "      <td>103561480</td>\n",
              "    </tr>\n",
              "    <tr>\n",
              "      <th>7</th>\n",
              "      <td>Nigeria</td>\n",
              "      <td>1952</td>\n",
              "      <td>33119096</td>\n",
              "      <td>2007</td>\n",
              "      <td>135031164</td>\n",
              "      <td>101912068</td>\n",
              "    </tr>\n",
              "    <tr>\n",
              "      <th>8</th>\n",
              "      <td>Mexico</td>\n",
              "      <td>1952</td>\n",
              "      <td>30144317</td>\n",
              "      <td>2007</td>\n",
              "      <td>108700891</td>\n",
              "      <td>78556574</td>\n",
              "    </tr>\n",
              "    <tr>\n",
              "      <th>9</th>\n",
              "      <td>Philippines</td>\n",
              "      <td>1952</td>\n",
              "      <td>22438691</td>\n",
              "      <td>2007</td>\n",
              "      <td>91077287</td>\n",
              "      <td>68638596</td>\n",
              "    </tr>\n",
              "  </tbody>\n",
              "</table>\n",
              "</div>"
            ],
            "text/plain": [
              "         country  year_x  population_x  year_y  population_y  population_growth\n",
              "0          China    1952     556263527    2007    1318683096          762419569\n",
              "1          India    1952     372000000    2007    1110396331          738396331\n",
              "2  United States    1952     157553000    2007     301139947          143586947\n",
              "3      Indonesia    1952      82052000    2007     223547000          141495000\n",
              "4         Brazil    1952      56602560    2007     190010647          133408087\n",
              "5       Pakistan    1952      41346560    2007     169270617          127924057\n",
              "6     Bangladesh    1952      46886859    2007     150448339          103561480\n",
              "7        Nigeria    1952      33119096    2007     135031164          101912068\n",
              "8         Mexico    1952      30144317    2007     108700891           78556574\n",
              "9    Philippines    1952      22438691    2007      91077287           68638596"
            ]
          },
          "metadata": {
            "tags": []
          },
          "execution_count": 35
        }
      ]
    },
    {
      "cell_type": "markdown",
      "metadata": {
        "id": "fNHQ5oazPp9K"
      },
      "source": [
        "##Now lets plot our data!"
      ]
    },
    {
      "cell_type": "code",
      "metadata": {
        "id": "cBrwFT4-dT5d",
        "colab": {
          "base_uri": "https://localhost:8080/",
          "height": 612
        },
        "outputId": "91550d06-166d-4e58-ce62-4f1cc057e548"
      },
      "source": [
        "names = ['China', 'India', 'United States', 'Indonesia', 'Brazil', 'Pakistan', 'Bangledesh', 'Nigeria', 'Mexico', 'Philippines']\n",
        "pop_grow = (c_merge['population_growth'] / 10**6)\n",
        "\n",
        "plt.figure(figsize=(15,9))\n",
        "plt.bar(names,pop_grow,width=0.6)\n",
        "plt.xlabel('Country')\n",
        "plt.ylabel('Population Growth (Millions)')\n",
        "plt.title('Top 10 Countries w/the Biggest Population Growth from 1952 to 2007')\n",
        "plt.xticks(rotation=45)\n",
        "\n",
        "# zip joins x and y coordinates in pairs\n",
        "for x,y in zip(names,pop_grow):\n",
        "\n",
        "    label = \"{:.2f}\".format(y)\n",
        "\n",
        "    plt.annotate(label, # this is the text\n",
        "                 (x,y), # this is the point to label\n",
        "                 textcoords=\"offset points\", # how to position the text\n",
        "                 xytext=(0,10), # distance from text to points (x,y)\n",
        "                 ha='center') # horizontal alignment can be left, right or center\n",
        "\n",
        "plt.show()\n"
      ],
      "execution_count": null,
      "outputs": [
        {
          "output_type": "display_data",
          "data": {
            "image/png": "[encoded data removed]",
            "text/plain": [
              "<Figure size 1080x648 with 1 Axes>"
            ]
          },
          "metadata": {
            "tags": []
          }
        }
      ]
    },
    {
      "cell_type": "markdown",
      "metadata": {
        "id": "xax9L3BHgx0d"
      },
      "source": [
        "##Congrats we have concluded what countries have the biggest population growth! Why do you think that is? With our data being so limited,  it might be a good idea to take these countries and find a dataset with more features for further insight!"
      ]
    }
  ]
}