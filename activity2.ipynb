{
  "nbformat": 4,
  "nbformat_minor": 0,
  "metadata": {
    "colab": {
      "provenance": []
    },
    "kernelspec": {
      "name": "python3",
      "display_name": "Python 3"
    },
    "language_info": {
      "name": "python"
    }
  },
  "cells": [
    {
      "cell_type": "code",
      "execution_count": null,
      "metadata": {
        "id": "G9Z5rSFa7EMX"
      },
      "outputs": [],
      "source": [
        "import matplotlib.pyplot as plt\n",
        "x=[0,5,10,15,20,25,30]\n",
        "y1=[10,15,20,20,30,15,0]\n",
        "y2=[10,12,15,12,20,10,0]\n",
        "plt.plot(x,y1,linestyle='dashed',marker='D')\n",
        "plt.plot(x,y2,linestyle='dashed',marker='D')\n",
        "plt.title('velocity-Time Graph')\n",
        "plt.xlabel('Velocity m/s')\n",
        "plt.ylabel('Time(s)')\n",
        "plt.xlim(5,25)\n",
        "plt.ylim(5,25)\n",
        "plt.legend()\n",
        "plt.show()"
      ]
    }
  ]
}